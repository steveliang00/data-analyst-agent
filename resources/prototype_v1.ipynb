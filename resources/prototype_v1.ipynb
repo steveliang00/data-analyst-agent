{
 "cells": [
  {
   "cell_type": "code",
   "execution_count": 22,
   "id": "32106c9b",
   "metadata": {},
   "outputs": [
    {
     "data": {
      "text/plain": [
       "True"
      ]
     },
     "execution_count": 22,
     "metadata": {},
     "output_type": "execute_result"
    }
   ],
   "source": [
    "import pandas as pd\n",
    "import numpy as np\n",
    "import os\n",
    "from dotenv import load_dotenv\n",
    "\n",
    "from langchain_mistralai.chat_models import ChatMistralAI\n",
    "from langgraph.prebuilt import create_react_agent\n",
    "from langchain_core.tools import tool\n",
    "from typing import List\n",
    "\n",
    "load_dotenv()\n"
   ]
  },
  {
   "cell_type": "code",
   "execution_count": 4,
   "id": "3bd659fb",
   "metadata": {},
   "outputs": [
    {
     "data": {
      "text/plain": [
       "[StructuredTool(name='multiply_numbers', description='Extracts numbers from a string and calculates their product.\\n\\nParameters:\\n- inputs (str): A string containing numbers separated by spaces, commas, or other delimiters.\\n\\nReturns:\\n- dict: A dictionary with the key \"result\" containing the product of the numbers.\\n\\nExample Input:\\n\"2, 3, 4\"\\n\\nExample Output:\\n{\"result\": 24}\\n\\nNotes:\\n- If no numbers are found, the result defaults to 1 (neutral element for multiplication).', args_schema=<class 'langchain_core.utils.pydantic.multiply_numbers'>, func=<function multiply_numbers at 0x1258bafc0>)]"
      ]
     },
     "execution_count": 4,
     "metadata": {},
     "output_type": "execute_result"
    }
   ],
   "source": [
    "llm = ChatMistralAI(\n",
    "    model=\"mistral-small-latest\",\n",
    "    api_key=os.getenv(\"MISTRAL_API_KEY\"),\n",
    "    temperature=0.9\n",
    "    )\n",
    "\n",
    "# Multiplication Tool\n",
    "@tool\n",
    "def multiply_numbers(inputs: str) -> dict:\n",
    "    \"\"\"\n",
    "    Extracts numbers from a string and calculates their product.\n",
    "\n",
    "    Parameters:\n",
    "    - inputs (str): A string containing numbers separated by spaces, commas, or other delimiters.\n",
    "\n",
    "    Returns:\n",
    "    - dict: A dictionary with the key \"result\" containing the product of the numbers.\n",
    "\n",
    "    Example Input:\n",
    "    \"2, 3, 4\"\n",
    "\n",
    "    Example Output:\n",
    "    {\"result\": 24}\n",
    "\n",
    "    Notes:\n",
    "    - If no numbers are found, the result defaults to 1 (neutral element for multiplication).\n",
    "    \"\"\"\n",
    "    # Extract numbers from the string\n",
    "    numbers = [int(num) for num in inputs.replace(\",\", \"\").split() if num.isdigit()]\n",
    "    print(numbers)\n",
    "\n",
    "    # If no numbers are found, return 1\n",
    "    if not numbers:\n",
    "        return {\"result\": 1}\n",
    "\n",
    "    # Calculate the product of the numbers\n",
    "    result = 1\n",
    "    for num in numbers:\n",
    "        result *= num\n",
    "        print(num)\n",
    "\n",
    "    return {\"result\": result}\n",
    "\n",
    "\n",
    "tools = [multiply_numbers]\n",
    "tools\n",
    "\n",
    "# response = llm.invoke(\"What is 25 divided by 4?\")\n",
    "# print(\"Response:\", response.content if hasattr(response, \"content\") else response)"
   ]
  },
  {
   "cell_type": "code",
   "execution_count": null,
   "id": "5933601c",
   "metadata": {},
   "outputs": [],
   "source": [
    "# Create the agent with all tools\n",
    "math_agent = create_react_agent(\n",
    "    model=llm,\n",
    "    tools=tools,\n",
    "    # Optional: Add a system message to guide the agent's behavior\n",
    "    prompt=\"You are a helpful mathematical assistant that can perform various operations. Use the tools precisely and explain your reasoning clearly.\"\n",
    ")"
   ]
  },
  {
   "cell_type": "code",
   "execution_count": 20,
   "id": "dc2e8a70",
   "metadata": {},
   "outputs": [
    {
     "name": "stdout",
     "output_type": "stream",
     "text": [
      "[25, 4]\n",
      "25\n",
      "4\n"
     ]
    }
   ],
   "source": [
    "response = math_agent.invoke({\n",
    "    \"messages\": [(\"human\", \"What is 25 multiplied by 4?\")]\n",
    "})\n"
   ]
  },
  {
   "cell_type": "code",
   "execution_count": 21,
   "id": "e4aa51af",
   "metadata": {},
   "outputs": [
    {
     "name": "stdout",
     "output_type": "stream",
     "text": [
      "The result of multiplying 25 by 4 is 100.\n"
     ]
    }
   ],
   "source": [
    "final_answer = response[\"messages\"][-1].content\n",
    "print(final_answer)"
   ]
  },
  {
   "cell_type": "code",
   "execution_count": 23,
   "id": "0dd2d39e",
   "metadata": {},
   "outputs": [
    {
     "data": {
      "text/html": [
       "<div>\n",
       "<style scoped>\n",
       "    .dataframe tbody tr th:only-of-type {\n",
       "        vertical-align: middle;\n",
       "    }\n",
       "\n",
       "    .dataframe tbody tr th {\n",
       "        vertical-align: top;\n",
       "    }\n",
       "\n",
       "    .dataframe thead th {\n",
       "        text-align: right;\n",
       "    }\n",
       "</style>\n",
       "<table border=\"1\" class=\"dataframe\">\n",
       "  <thead>\n",
       "    <tr style=\"text-align: right;\">\n",
       "      <th></th>\n",
       "      <th>product_name</th>\n",
       "      <th>total_amount</th>\n",
       "    </tr>\n",
       "  </thead>\n",
       "  <tbody>\n",
       "    <tr>\n",
       "      <th>0</th>\n",
       "      <td>Bicycle</td>\n",
       "      <td>7596.10</td>\n",
       "    </tr>\n",
       "    <tr>\n",
       "      <th>21</th>\n",
       "      <td>Skincare Set</td>\n",
       "      <td>6155.24</td>\n",
       "    </tr>\n",
       "    <tr>\n",
       "      <th>15</th>\n",
       "      <td>Makeup Kit</td>\n",
       "      <td>6091.51</td>\n",
       "    </tr>\n",
       "    <tr>\n",
       "      <th>11</th>\n",
       "      <td>Jacket</td>\n",
       "      <td>5831.65</td>\n",
       "    </tr>\n",
       "    <tr>\n",
       "      <th>13</th>\n",
       "      <td>Kitchen Appliance</td>\n",
       "      <td>5592.11</td>\n",
       "    </tr>\n",
       "  </tbody>\n",
       "</table>\n",
       "</div>"
      ],
      "text/plain": [
       "         product_name  total_amount\n",
       "0             Bicycle       7596.10\n",
       "21       Skincare Set       6155.24\n",
       "15         Makeup Kit       6091.51\n",
       "11             Jacket       5831.65\n",
       "13  Kitchen Appliance       5592.11"
      ]
     },
     "execution_count": 23,
     "metadata": {},
     "output_type": "execute_result"
    }
   ],
   "source": [
    "  # Load the CSV file\n",
    "  sales_data = pd.read_csv('data/sample_sales_data.csv')\n",
    "\n",
    "  # Calculate revenue for each product\n",
    "  product_revenue = sales_data.groupby('product_name')['total_amount'].sum().reset_index()\n",
    "\n",
    "  # Sort by revenue in descending order\n",
    "  product_revenue_sorted = product_revenue.sort_values(by='total_amount', ascending=False)\n",
    "\n",
    "  # Get the top 5 products\n",
    "  # Get the top 5 products\n",
    "  product_revenue_sorted.head(5)"
   ]
  }
 ],
 "metadata": {
  "kernelspec": {
   "display_name": "data-analyst-agent",
   "language": "python",
   "name": "python3"
  },
  "language_info": {
   "codemirror_mode": {
    "name": "ipython",
    "version": 3
   },
   "file_extension": ".py",
   "mimetype": "text/x-python",
   "name": "python",
   "nbconvert_exporter": "python",
   "pygments_lexer": "ipython3",
   "version": "3.11.13"
  }
 },
 "nbformat": 4,
 "nbformat_minor": 5
}
